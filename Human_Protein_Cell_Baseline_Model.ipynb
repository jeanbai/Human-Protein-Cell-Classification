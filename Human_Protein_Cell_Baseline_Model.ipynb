{
  "nbformat": 4,
  "nbformat_minor": 0,
  "metadata": {
    "accelerator": "TPU",
    "colab": {
      "name": "Human Protein Cell Baseline Model.ipynb",
      "provenance": [],
      "collapsed_sections": [],
      "machine_shape": "hm",
      "authorship_tag": "ABX9TyOkIxckf/Sb29E6m9xEI0v/",
      "include_colab_link": true
    },
    "kernelspec": {
      "display_name": "Python 3",
      "name": "python3"
    }
  },
  "cells": [
    {
      "cell_type": "markdown",
      "metadata": {
        "id": "view-in-github",
        "colab_type": "text"
      },
      "source": [
        "<a href=\"https://colab.research.google.com/github/jeanbai/Human-Protein-Cell-Classification/blob/main/Human_Protein_Cell_Baseline_Model.ipynb\" target=\"_parent\"><img src=\"https://colab.research.google.com/assets/colab-badge.svg\" alt=\"Open In Colab\"/></a>"
      ]
    },
    {
      "cell_type": "markdown",
      "metadata": {
        "id": "Ulw197Cx_hDL"
      },
      "source": [
        "Import Libraries"
      ]
    },
    {
      "cell_type": "code",
      "metadata": {
        "colab": {
          "base_uri": "https://localhost:8080/"
        },
        "id": "1n6z84Kc720r",
        "outputId": "40642afb-7393-4615-fce7-b8006ce09102"
      },
      "source": [
        "import math, re, os\n",
        "import numpy as np\n",
        "import tensorflow as tf\n",
        "\n",
        "print(\"Tensorflow version \" + tf.__version__)"
      ],
      "execution_count": 1,
      "outputs": [
        {
          "output_type": "stream",
          "text": [
            "Tensorflow version 2.4.1\n"
          ],
          "name": "stdout"
        }
      ]
    },
    {
      "cell_type": "code",
      "metadata": {
        "id": "b4ZRlmN0nYt9"
      },
      "source": [
        "import math, re, os\n",
        "import numpy as np\n",
        "import tensorflow as tf\n"
      ],
      "execution_count": 2,
      "outputs": []
    },
    {
      "cell_type": "code",
      "metadata": {
        "colab": {
          "base_uri": "https://localhost:8080/"
        },
        "id": "RKWOJYKKLjtv",
        "outputId": "3e5efca6-4431-4b8d-ee05-74dbd310026a"
      },
      "source": [
        "from google.colab import drive\n",
        "drive.mount('/content/drive')"
      ],
      "execution_count": 3,
      "outputs": [
        {
          "output_type": "stream",
          "text": [
            "Mounted at /content/drive\n"
          ],
          "name": "stdout"
        }
      ]
    },
    {
      "cell_type": "code",
      "metadata": {
        "id": "xCFZOvmKk40D"
      },
      "source": [
        "import tensorflow as tf\n",
        "from tensorflow.keras import Sequential\n",
        "from tensorflow.keras.layers import Flatten, Dense,Dropout,BatchNormalization,Conv2D,MaxPool2D\n",
        "from tensorflow.keras.optimizers import Adam\n",
        "from tensorflow.keras.preprocessing import image"
      ],
      "execution_count": 4,
      "outputs": []
    },
    {
      "cell_type": "code",
      "metadata": {
        "id": "J71IBkxiPyvB"
      },
      "source": [
        "\n",
        "import pandas as pd\n",
        "import matplotlib.pyplot as plt"
      ],
      "execution_count": 5,
      "outputs": []
    },
    {
      "cell_type": "code",
      "metadata": {
        "id": "z7zbUe63QCpF"
      },
      "source": [
        "from sklearn.model_selection import train_test_split"
      ],
      "execution_count": 6,
      "outputs": []
    },
    {
      "cell_type": "code",
      "metadata": {
        "id": "32JMzeWfQLqZ"
      },
      "source": [
        "from tqdm import tqdm"
      ],
      "execution_count": 7,
      "outputs": []
    },
    {
      "cell_type": "markdown",
      "metadata": {
        "id": "BMKXi7Nz_nJI"
      },
      "source": [
        "Import label dataset"
      ]
    },
    {
      "cell_type": "code",
      "metadata": {
        "id": "tVN4VPmORfpn"
      },
      "source": [
        "data = pd.read_csv(\"/content/drive/MyDrive/train.csv\")"
      ],
      "execution_count": 8,
      "outputs": []
    },
    {
      "cell_type": "code",
      "metadata": {
        "colab": {
          "base_uri": "https://localhost:8080/",
          "height": 204
        },
        "id": "n43zCHjAR49A",
        "outputId": "8663f324-4a2d-44d6-a13a-9dc5b95d1481"
      },
      "source": [
        "data.head()"
      ],
      "execution_count": 9,
      "outputs": [
        {
          "output_type": "execute_result",
          "data": {
            "text/html": [
              "<div>\n",
              "<style scoped>\n",
              "    .dataframe tbody tr th:only-of-type {\n",
              "        vertical-align: middle;\n",
              "    }\n",
              "\n",
              "    .dataframe tbody tr th {\n",
              "        vertical-align: top;\n",
              "    }\n",
              "\n",
              "    .dataframe thead th {\n",
              "        text-align: right;\n",
              "    }\n",
              "</style>\n",
              "<table border=\"1\" class=\"dataframe\">\n",
              "  <thead>\n",
              "    <tr style=\"text-align: right;\">\n",
              "      <th></th>\n",
              "      <th>ID</th>\n",
              "      <th>Label</th>\n",
              "    </tr>\n",
              "  </thead>\n",
              "  <tbody>\n",
              "    <tr>\n",
              "      <th>0</th>\n",
              "      <td>5c27f04c-bb99-11e8-b2b9-ac1f6b6435d0</td>\n",
              "      <td>8|5|0</td>\n",
              "    </tr>\n",
              "    <tr>\n",
              "      <th>1</th>\n",
              "      <td>5fb643ee-bb99-11e8-b2b9-ac1f6b6435d0</td>\n",
              "      <td>14|0</td>\n",
              "    </tr>\n",
              "    <tr>\n",
              "      <th>2</th>\n",
              "      <td>60b57878-bb99-11e8-b2b9-ac1f6b6435d0</td>\n",
              "      <td>6|1</td>\n",
              "    </tr>\n",
              "    <tr>\n",
              "      <th>3</th>\n",
              "      <td>5c1a898e-bb99-11e8-b2b9-ac1f6b6435d0</td>\n",
              "      <td>16|10</td>\n",
              "    </tr>\n",
              "    <tr>\n",
              "      <th>4</th>\n",
              "      <td>5b931256-bb99-11e8-b2b9-ac1f6b6435d0</td>\n",
              "      <td>14|0</td>\n",
              "    </tr>\n",
              "  </tbody>\n",
              "</table>\n",
              "</div>"
            ],
            "text/plain": [
              "                                     ID  Label\n",
              "0  5c27f04c-bb99-11e8-b2b9-ac1f6b6435d0  8|5|0\n",
              "1  5fb643ee-bb99-11e8-b2b9-ac1f6b6435d0   14|0\n",
              "2  60b57878-bb99-11e8-b2b9-ac1f6b6435d0    6|1\n",
              "3  5c1a898e-bb99-11e8-b2b9-ac1f6b6435d0  16|10\n",
              "4  5b931256-bb99-11e8-b2b9-ac1f6b6435d0   14|0"
            ]
          },
          "metadata": {
            "tags": []
          },
          "execution_count": 9
        }
      ]
    },
    {
      "cell_type": "code",
      "metadata": {
        "id": "Dlxz8KIuP4EV"
      },
      "source": [
        "label_names = {\n",
        "    '0': \"Nucleoplasm\",\n",
        "    '1': \"Nuclear membrane\",\n",
        "    '2': \"Nucleoli\",\n",
        "    '3': \"Nucleoli fibrillar center\",\n",
        "    '4': \"Nuclear speckles\",\n",
        "    '5': \"Nuclear bodies\",\n",
        "    '6': \"Endoplasmic reticulum\",\n",
        "    '7': \"Golgi apparatus\",\n",
        "    '8': \"Intermediate filaments\",\n",
        "    '9': \"Actin filaments\",\n",
        "    '10': \"Microtubules\",\n",
        "    '11': \"Mitotic spindle\",\n",
        "    '12': \"Centrosome\",\n",
        "    '13': \"Plasma membrane\",\n",
        "    '14': \"Mitochondria\",\n",
        "    '15': \"Aggresome\",\n",
        "    '16': \"Cytosol\",\n",
        "    '17': \"Vesicles and punctate cytosolic patterns\",\n",
        "    '18': \"Negative\",\n",
        "}"
      ],
      "execution_count": 9,
      "outputs": []
    },
    {
      "cell_type": "markdown",
      "metadata": {
        "id": "iFXZAuCr_4He"
      },
      "source": [
        "Apply Hot_Encode for multi_label categories"
      ]
    },
    {
      "cell_type": "code",
      "metadata": {
        "id": "rmHHkNiTTSV0"
      },
      "source": [
        "train = data.copy()\n",
        "lab_idx = label_names.keys()\n",
        "\n",
        "train['Label'] = train['Label'].map(lambda x: x.split('|'))\n",
        "\n",
        "for label in lab_idx:\n",
        "    train[label_names[label]] = train['Label'].map(lambda result: 1 if label in result else 0)"
      ],
      "execution_count": 10,
      "outputs": []
    },
    {
      "cell_type": "code",
      "metadata": {
        "colab": {
          "base_uri": "https://localhost:8080/",
          "height": 547
        },
        "id": "lJXDzjedTSQR",
        "outputId": "905f996c-899f-402e-ce00-4cbd32d2b836"
      },
      "source": [
        "train.head()"
      ],
      "execution_count": 11,
      "outputs": [
        {
          "output_type": "execute_result",
          "data": {
            "text/html": [
              "<div>\n",
              "<style scoped>\n",
              "    .dataframe tbody tr th:only-of-type {\n",
              "        vertical-align: middle;\n",
              "    }\n",
              "\n",
              "    .dataframe tbody tr th {\n",
              "        vertical-align: top;\n",
              "    }\n",
              "\n",
              "    .dataframe thead th {\n",
              "        text-align: right;\n",
              "    }\n",
              "</style>\n",
              "<table border=\"1\" class=\"dataframe\">\n",
              "  <thead>\n",
              "    <tr style=\"text-align: right;\">\n",
              "      <th></th>\n",
              "      <th>ID</th>\n",
              "      <th>Label</th>\n",
              "      <th>Nucleoplasm</th>\n",
              "      <th>Nuclear membrane</th>\n",
              "      <th>Nucleoli</th>\n",
              "      <th>Nucleoli fibrillar center</th>\n",
              "      <th>Nuclear speckles</th>\n",
              "      <th>Nuclear bodies</th>\n",
              "      <th>Endoplasmic reticulum</th>\n",
              "      <th>Golgi apparatus</th>\n",
              "      <th>Intermediate filaments</th>\n",
              "      <th>Actin filaments</th>\n",
              "      <th>Microtubules</th>\n",
              "      <th>Mitotic spindle</th>\n",
              "      <th>Centrosome</th>\n",
              "      <th>Plasma membrane</th>\n",
              "      <th>Mitochondria</th>\n",
              "      <th>Aggresome</th>\n",
              "      <th>Cytosol</th>\n",
              "      <th>Vesicles and punctate cytosolic patterns</th>\n",
              "      <th>Negative</th>\n",
              "    </tr>\n",
              "  </thead>\n",
              "  <tbody>\n",
              "    <tr>\n",
              "      <th>0</th>\n",
              "      <td>5c27f04c-bb99-11e8-b2b9-ac1f6b6435d0</td>\n",
              "      <td>[8, 5, 0]</td>\n",
              "      <td>1</td>\n",
              "      <td>0</td>\n",
              "      <td>0</td>\n",
              "      <td>0</td>\n",
              "      <td>0</td>\n",
              "      <td>1</td>\n",
              "      <td>0</td>\n",
              "      <td>0</td>\n",
              "      <td>1</td>\n",
              "      <td>0</td>\n",
              "      <td>0</td>\n",
              "      <td>0</td>\n",
              "      <td>0</td>\n",
              "      <td>0</td>\n",
              "      <td>0</td>\n",
              "      <td>0</td>\n",
              "      <td>0</td>\n",
              "      <td>0</td>\n",
              "      <td>0</td>\n",
              "    </tr>\n",
              "    <tr>\n",
              "      <th>1</th>\n",
              "      <td>5fb643ee-bb99-11e8-b2b9-ac1f6b6435d0</td>\n",
              "      <td>[14, 0]</td>\n",
              "      <td>1</td>\n",
              "      <td>0</td>\n",
              "      <td>0</td>\n",
              "      <td>0</td>\n",
              "      <td>0</td>\n",
              "      <td>0</td>\n",
              "      <td>0</td>\n",
              "      <td>0</td>\n",
              "      <td>0</td>\n",
              "      <td>0</td>\n",
              "      <td>0</td>\n",
              "      <td>0</td>\n",
              "      <td>0</td>\n",
              "      <td>0</td>\n",
              "      <td>1</td>\n",
              "      <td>0</td>\n",
              "      <td>0</td>\n",
              "      <td>0</td>\n",
              "      <td>0</td>\n",
              "    </tr>\n",
              "    <tr>\n",
              "      <th>2</th>\n",
              "      <td>60b57878-bb99-11e8-b2b9-ac1f6b6435d0</td>\n",
              "      <td>[6, 1]</td>\n",
              "      <td>0</td>\n",
              "      <td>1</td>\n",
              "      <td>0</td>\n",
              "      <td>0</td>\n",
              "      <td>0</td>\n",
              "      <td>0</td>\n",
              "      <td>1</td>\n",
              "      <td>0</td>\n",
              "      <td>0</td>\n",
              "      <td>0</td>\n",
              "      <td>0</td>\n",
              "      <td>0</td>\n",
              "      <td>0</td>\n",
              "      <td>0</td>\n",
              "      <td>0</td>\n",
              "      <td>0</td>\n",
              "      <td>0</td>\n",
              "      <td>0</td>\n",
              "      <td>0</td>\n",
              "    </tr>\n",
              "    <tr>\n",
              "      <th>3</th>\n",
              "      <td>5c1a898e-bb99-11e8-b2b9-ac1f6b6435d0</td>\n",
              "      <td>[16, 10]</td>\n",
              "      <td>0</td>\n",
              "      <td>0</td>\n",
              "      <td>0</td>\n",
              "      <td>0</td>\n",
              "      <td>0</td>\n",
              "      <td>0</td>\n",
              "      <td>0</td>\n",
              "      <td>0</td>\n",
              "      <td>0</td>\n",
              "      <td>0</td>\n",
              "      <td>1</td>\n",
              "      <td>0</td>\n",
              "      <td>0</td>\n",
              "      <td>0</td>\n",
              "      <td>0</td>\n",
              "      <td>0</td>\n",
              "      <td>1</td>\n",
              "      <td>0</td>\n",
              "      <td>0</td>\n",
              "    </tr>\n",
              "    <tr>\n",
              "      <th>4</th>\n",
              "      <td>5b931256-bb99-11e8-b2b9-ac1f6b6435d0</td>\n",
              "      <td>[14, 0]</td>\n",
              "      <td>1</td>\n",
              "      <td>0</td>\n",
              "      <td>0</td>\n",
              "      <td>0</td>\n",
              "      <td>0</td>\n",
              "      <td>0</td>\n",
              "      <td>0</td>\n",
              "      <td>0</td>\n",
              "      <td>0</td>\n",
              "      <td>0</td>\n",
              "      <td>0</td>\n",
              "      <td>0</td>\n",
              "      <td>0</td>\n",
              "      <td>0</td>\n",
              "      <td>1</td>\n",
              "      <td>0</td>\n",
              "      <td>0</td>\n",
              "      <td>0</td>\n",
              "      <td>0</td>\n",
              "    </tr>\n",
              "  </tbody>\n",
              "</table>\n",
              "</div>"
            ],
            "text/plain": [
              "                                     ID  ... Negative\n",
              "0  5c27f04c-bb99-11e8-b2b9-ac1f6b6435d0  ...        0\n",
              "1  5fb643ee-bb99-11e8-b2b9-ac1f6b6435d0  ...        0\n",
              "2  60b57878-bb99-11e8-b2b9-ac1f6b6435d0  ...        0\n",
              "3  5c1a898e-bb99-11e8-b2b9-ac1f6b6435d0  ...        0\n",
              "4  5b931256-bb99-11e8-b2b9-ac1f6b6435d0  ...        0\n",
              "\n",
              "[5 rows x 21 columns]"
            ]
          },
          "metadata": {
            "tags": []
          },
          "execution_count": 11
        }
      ]
    },
    {
      "cell_type": "code",
      "metadata": {
        "colab": {
          "base_uri": "https://localhost:8080/"
        },
        "id": "uAw-pDbbXIvx",
        "outputId": "6f97a5e3-3b8a-4e87-c2ca-a46b79d71d08"
      },
      "source": [
        "train.shape"
      ],
      "execution_count": 12,
      "outputs": [
        {
          "output_type": "execute_result",
          "data": {
            "text/plain": [
              "(21806, 21)"
            ]
          },
          "metadata": {
            "tags": []
          },
          "execution_count": 12
        }
      ]
    },
    {
      "cell_type": "markdown",
      "metadata": {
        "id": "167uzHXlABaE"
      },
      "source": [
        "Import image file"
      ]
    },
    {
      "cell_type": "code",
      "metadata": {
        "colab": {
          "base_uri": "https://localhost:8080/"
        },
        "id": "BUr-1SnENkCj",
        "outputId": "4d6361b2-80be-4340-ea92-101e09c76066"
      },
      "source": [
        "img_width = 150\n",
        "img_height = 150\n",
        "\n",
        "X = []\n",
        "\n",
        "for i in tqdm(range(train.shape[0])):\n",
        "    path = '/content/drive/MyDrive/rgb/' + train['ID'][i] + '.png'\n",
        "    img = image.load_img(path, target_size=(img_width, img_height, 3))\n",
        "    img = image.img_to_array(img)\n",
        "    img = img/255.0\n",
        "    X.append(img)\n",
        "\n",
        "X = np.array(X)\n"
      ],
      "execution_count": 13,
      "outputs": [
        {
          "output_type": "stream",
          "text": [
            "100%|██████████| 21806/21806 [1:19:58<00:00,  4.54it/s]\n"
          ],
          "name": "stderr"
        }
      ]
    },
    {
      "cell_type": "code",
      "metadata": {
        "colab": {
          "base_uri": "https://localhost:8080/"
        },
        "id": "ekbgBMZ3d7Zt",
        "outputId": "089a3025-a8ba-4a70-bfe1-d54dac367348"
      },
      "source": [
        "X.shape"
      ],
      "execution_count": 14,
      "outputs": [
        {
          "output_type": "execute_result",
          "data": {
            "text/plain": [
              "(21806, 150, 150, 3)"
            ]
          },
          "metadata": {
            "tags": []
          },
          "execution_count": 14
        }
      ]
    },
    {
      "cell_type": "code",
      "metadata": {
        "colab": {
          "base_uri": "https://localhost:8080/"
        },
        "id": "o6cE0GUNY6aP",
        "outputId": "fdaa29d7-9138-4c9d-fa50-69afa155c2d4"
      },
      "source": [
        "X.dtype"
      ],
      "execution_count": 15,
      "outputs": [
        {
          "output_type": "execute_result",
          "data": {
            "text/plain": [
              "dtype('float32')"
            ]
          },
          "metadata": {
            "tags": []
          },
          "execution_count": 15
        }
      ]
    },
    {
      "cell_type": "markdown",
      "metadata": {
        "id": "OC_S1oUPXvss"
      },
      "source": [
        "Visualize one of the image"
      ]
    },
    {
      "cell_type": "markdown",
      "metadata": {
        "id": "l4QxAyyOAHOC"
      },
      "source": [
        "Chose one of the image to have a look"
      ]
    },
    {
      "cell_type": "code",
      "metadata": {
        "colab": {
          "base_uri": "https://localhost:8080/",
          "height": 286
        },
        "id": "J9JZsj2yf6Km",
        "outputId": "7efa5210-09e9-440d-a438-9de20ddaf3c1"
      },
      "source": [
        "plt.imshow(X[3])"
      ],
      "execution_count": 16,
      "outputs": [
        {
          "output_type": "execute_result",
          "data": {
            "text/plain": [
              "<matplotlib.image.AxesImage at 0x7f4db7965810>"
            ]
          },
          "metadata": {
            "tags": []
          },
          "execution_count": 16
        },
        {
          "output_type": "display_data",
          "data": {
            "image/png": "[encoded data removed]",
            "text/plain": [
              "<Figure size 432x288 with 1 Axes>"
            ]
          },
          "metadata": {
            "tags": [],
            "needs_background": "light"
          }
        }
      ]
    },
    {
      "cell_type": "code",
      "metadata": {
        "colab": {
          "base_uri": "https://localhost:8080/"
        },
        "id": "ICbTVf-fpv3a",
        "outputId": "07139410-8eb8-4dca-de68-199aeb588406"
      },
      "source": [
        "train_df['Label'][3]"
      ],
      "execution_count": 34,
      "outputs": [
        {
          "output_type": "execute_result",
          "data": {
            "text/plain": [
              "['16', '10']"
            ]
          },
          "metadata": {
            "tags": []
          },
          "execution_count": 34
        }
      ]
    },
    {
      "cell_type": "code",
      "metadata": {
        "colab": {
          "base_uri": "https://localhost:8080/"
        },
        "id": "w63O6gTdZl3T",
        "outputId": "975bdd3a-0db0-4c61-a853-a4401c0ce6d6"
      },
      "source": [
        "train.shape"
      ],
      "execution_count": 17,
      "outputs": [
        {
          "output_type": "execute_result",
          "data": {
            "text/plain": [
              "(21806, 21)"
            ]
          },
          "metadata": {
            "tags": []
          },
          "execution_count": 17
        }
      ]
    },
    {
      "cell_type": "code",
      "metadata": {
        "colab": {
          "base_uri": "https://localhost:8080/"
        },
        "id": "k7kSI5iYgIZy",
        "outputId": "f2424635-551b-4183-cfd0-6f749e10b11d"
      },
      "source": [
        "y = train.drop(['ID','Label'],axis = 1)\n",
        "y = y.to_numpy()\n",
        "y.shape"
      ],
      "execution_count": 18,
      "outputs": [
        {
          "output_type": "execute_result",
          "data": {
            "text/plain": [
              "(21806, 19)"
            ]
          },
          "metadata": {
            "tags": []
          },
          "execution_count": 18
        }
      ]
    },
    {
      "cell_type": "markdown",
      "metadata": {
        "id": "sjISpfAKAPXD"
      },
      "source": [
        "Split dateset for modeling"
      ]
    },
    {
      "cell_type": "code",
      "metadata": {
        "id": "JNcneusIgcD2"
      },
      "source": [
        "X_train, X_test,y_train,y_test = train_test_split(X, y,random_state = 0, test_size = 0.30)"
      ],
      "execution_count": 20,
      "outputs": []
    },
    {
      "cell_type": "code",
      "metadata": {
        "colab": {
          "base_uri": "https://localhost:8080/"
        },
        "id": "Xh9vqXpQhdFJ",
        "outputId": "3eecf9dc-208a-4ea3-8c22-fbc8e7a09311"
      },
      "source": [
        "X_train[0].shape"
      ],
      "execution_count": 21,
      "outputs": [
        {
          "output_type": "execute_result",
          "data": {
            "text/plain": [
              "(150, 150, 3)"
            ]
          },
          "metadata": {
            "tags": []
          },
          "execution_count": 21
        }
      ]
    },
    {
      "cell_type": "markdown",
      "metadata": {
        "id": "ADUrPKf9hP6K"
      },
      "source": [
        "##built CNN"
      ]
    },
    {
      "cell_type": "code",
      "metadata": {
        "id": "3fxHZ7hFg-Me"
      },
      "source": [
        "model = Sequential()\n",
        "model.add(Conv2D(16,(3,3), activation='relu', input_shape = X_train[0].shape))\n",
        "model.add(BatchNormalization())\n",
        "model.add(MaxPool2D(2,2))\n",
        "model.add(Dropout(0.2))\n",
        "\n",
        "\n",
        "model.add(Conv2D(32,(3,3), activation='relu'))\n",
        "model.add(BatchNormalization())\n",
        "model.add(MaxPool2D(2,2))\n",
        "model.add(Dropout(0.3))\n",
        "\n",
        "\n",
        "model.add(Conv2D(64,(3,3), activation='relu'))\n",
        "model.add(BatchNormalization())\n",
        "model.add(MaxPool2D(2,2))\n",
        "model.add(Dropout(0.4))\n",
        "\n",
        "\n",
        "model.add(Conv2D(128,(3,3), activation='relu'))\n",
        "model.add(BatchNormalization())\n",
        "model.add(MaxPool2D(2,2))\n",
        "model.add(Dropout(0.5))\n",
        "\n",
        "model.add(Flatten())\n",
        "\n",
        "model.add(Dense(128,activation='relu'))\n",
        "model.add(BatchNormalization())\n",
        "model.add(Dropout(0.5))\n",
        "\n",
        "model.add(Dense(19, activation='sigmoid'))\n",
        "\n"
      ],
      "execution_count": 22,
      "outputs": []
    },
    {
      "cell_type": "code",
      "metadata": {
        "colab": {
          "base_uri": "https://localhost:8080/"
        },
        "id": "hDRWUWTVqck_",
        "outputId": "1ed94b01-bb01-4cae-dadb-577fc129af84"
      },
      "source": [
        "model.summary()"
      ],
      "execution_count": 23,
      "outputs": [
        {
          "output_type": "stream",
          "text": [
            "Model: \"sequential\"\n",
            "_________________________________________________________________\n",
            "Layer (type)                 Output Shape              Param #   \n",
            "=================================================================\n",
            "conv2d (Conv2D)              (None, 148, 148, 16)      448       \n",
            "_________________________________________________________________\n",
            "batch_normalization (BatchNo (None, 148, 148, 16)      64        \n",
            "_________________________________________________________________\n",
            "max_pooling2d (MaxPooling2D) (None, 74, 74, 16)        0         \n",
            "_________________________________________________________________\n",
            "dropout (Dropout)            (None, 74, 74, 16)        0         \n",
            "_________________________________________________________________\n",
            "conv2d_1 (Conv2D)            (None, 72, 72, 32)        4640      \n",
            "_________________________________________________________________\n",
            "batch_normalization_1 (Batch (None, 72, 72, 32)        128       \n",
            "_________________________________________________________________\n",
            "max_pooling2d_1 (MaxPooling2 (None, 36, 36, 32)        0         \n",
            "_________________________________________________________________\n",
            "dropout_1 (Dropout)          (None, 36, 36, 32)        0         \n",
            "_________________________________________________________________\n",
            "conv2d_2 (Conv2D)            (None, 34, 34, 64)        18496     \n",
            "_________________________________________________________________\n",
            "batch_normalization_2 (Batch (None, 34, 34, 64)        256       \n",
            "_________________________________________________________________\n",
            "max_pooling2d_2 (MaxPooling2 (None, 17, 17, 64)        0         \n",
            "_________________________________________________________________\n",
            "dropout_2 (Dropout)          (None, 17, 17, 64)        0         \n",
            "_________________________________________________________________\n",
            "conv2d_3 (Conv2D)            (None, 15, 15, 128)       73856     \n",
            "_________________________________________________________________\n",
            "batch_normalization_3 (Batch (None, 15, 15, 128)       512       \n",
            "_________________________________________________________________\n",
            "max_pooling2d_3 (MaxPooling2 (None, 7, 7, 128)         0         \n",
            "_________________________________________________________________\n",
            "dropout_3 (Dropout)          (None, 7, 7, 128)         0         \n",
            "_________________________________________________________________\n",
            "flatten (Flatten)            (None, 6272)              0         \n",
            "_________________________________________________________________\n",
            "dense (Dense)                (None, 128)               802944    \n",
            "_________________________________________________________________\n",
            "batch_normalization_4 (Batch (None, 128)               512       \n",
            "_________________________________________________________________\n",
            "dropout_4 (Dropout)          (None, 128)               0         \n",
            "_________________________________________________________________\n",
            "dense_1 (Dense)              (None, 19)                2451      \n",
            "=================================================================\n",
            "Total params: 904,307\n",
            "Trainable params: 903,571\n",
            "Non-trainable params: 736\n",
            "_________________________________________________________________\n"
          ],
          "name": "stdout"
        }
      ]
    },
    {
      "cell_type": "code",
      "metadata": {
        "id": "OrXnQTAKqyFZ"
      },
      "source": [
        "model.compile(optimizer=\"adam\", loss = 'binary_crossentropy', metrics=['accuracy'])"
      ],
      "execution_count": 24,
      "outputs": []
    },
    {
      "cell_type": "code",
      "metadata": {
        "colab": {
          "base_uri": "https://localhost:8080/"
        },
        "id": "j1jYttmPrLJq",
        "outputId": "eded3879-b24a-4555-9c1c-6cc9aa7233cc"
      },
      "source": [
        "history = model.fit(X_train,y_train,epochs=20,validation_data=(X_test,y_test))"
      ],
      "execution_count": 25,
      "outputs": [
        {
          "output_type": "stream",
          "text": [
            "Epoch 1/20\n",
            "477/477 [==============================] - 80s 165ms/step - loss: 0.6332 - accuracy: 0.1313 - val_loss: 0.3327 - val_accuracy: 0.4034\n",
            "Epoch 2/20\n",
            "477/477 [==============================] - 79s 165ms/step - loss: 0.2429 - accuracy: 0.3688 - val_loss: 0.3369 - val_accuracy: 0.3863\n",
            "Epoch 3/20\n",
            "477/477 [==============================] - 79s 165ms/step - loss: 0.2303 - accuracy: 0.3920 - val_loss: 0.8572 - val_accuracy: 0.3962\n",
            "Epoch 4/20\n",
            "477/477 [==============================] - 79s 165ms/step - loss: 0.2232 - accuracy: 0.4061 - val_loss: 0.4844 - val_accuracy: 0.4204\n",
            "Epoch 5/20\n",
            "477/477 [==============================] - 80s 168ms/step - loss: 0.2165 - accuracy: 0.4308 - val_loss: 0.2229 - val_accuracy: 0.4743\n",
            "Epoch 6/20\n",
            "477/477 [==============================] - 78s 165ms/step - loss: 0.2108 - accuracy: 0.4362 - val_loss: 0.2351 - val_accuracy: 0.4363\n",
            "Epoch 7/20\n",
            "477/477 [==============================] - 79s 165ms/step - loss: 0.2077 - accuracy: 0.4398 - val_loss: 0.2122 - val_accuracy: 0.4127\n",
            "Epoch 8/20\n",
            "477/477 [==============================] - 80s 167ms/step - loss: 0.2039 - accuracy: 0.4519 - val_loss: 0.2015 - val_accuracy: 0.4375\n",
            "Epoch 9/20\n",
            "477/477 [==============================] - 81s 169ms/step - loss: 0.2016 - accuracy: 0.4466 - val_loss: 0.2113 - val_accuracy: 0.4754\n",
            "Epoch 10/20\n",
            "477/477 [==============================] - 78s 163ms/step - loss: 0.1975 - accuracy: 0.4594 - val_loss: 0.2060 - val_accuracy: 0.4635\n",
            "Epoch 11/20\n",
            "477/477 [==============================] - 80s 167ms/step - loss: 0.1950 - accuracy: 0.4670 - val_loss: 0.2046 - val_accuracy: 0.4242\n",
            "Epoch 12/20\n",
            "477/477 [==============================] - 80s 167ms/step - loss: 0.1943 - accuracy: 0.4682 - val_loss: 0.1921 - val_accuracy: 0.4841\n",
            "Epoch 13/20\n",
            "477/477 [==============================] - 79s 165ms/step - loss: 0.1921 - accuracy: 0.4719 - val_loss: 0.1965 - val_accuracy: 0.5096\n",
            "Epoch 14/20\n",
            "477/477 [==============================] - 78s 165ms/step - loss: 0.1871 - accuracy: 0.4911 - val_loss: 0.1982 - val_accuracy: 0.5216\n",
            "Epoch 15/20\n",
            "477/477 [==============================] - 79s 165ms/step - loss: 0.1889 - accuracy: 0.4865 - val_loss: 0.1939 - val_accuracy: 0.4713\n",
            "Epoch 16/20\n",
            "477/477 [==============================] - 80s 167ms/step - loss: 0.1849 - accuracy: 0.4922 - val_loss: 0.1887 - val_accuracy: 0.4743\n",
            "Epoch 17/20\n",
            "477/477 [==============================] - 80s 169ms/step - loss: 0.1842 - accuracy: 0.4991 - val_loss: 0.1959 - val_accuracy: 0.4888\n",
            "Epoch 18/20\n",
            "477/477 [==============================] - 77s 162ms/step - loss: 0.1823 - accuracy: 0.5038 - val_loss: 0.3034 - val_accuracy: 0.4286\n",
            "Epoch 19/20\n",
            "477/477 [==============================] - 78s 164ms/step - loss: 0.1798 - accuracy: 0.4983 - val_loss: 0.1844 - val_accuracy: 0.5105\n",
            "Epoch 20/20\n",
            "477/477 [==============================] - 80s 167ms/step - loss: 0.1801 - accuracy: 0.5114 - val_loss: 0.2034 - val_accuracy: 0.4827\n"
          ],
          "name": "stdout"
        }
      ]
    },
    {
      "cell_type": "markdown",
      "metadata": {
        "id": "g8t_FdfDAbRE"
      },
      "source": [
        "The result is not good. The image date is imbalanced. The numbe of blue channels image file is very a little. Will Use Stratified Sheffle Split method to seperate the train and test file for a better balanced train and test file."
      ]
    },
    {
      "cell_type": "code",
      "metadata": {
        "id": "9FuM5aG5COGW"
      },
      "source": [
        ""
      ],
      "execution_count": null,
      "outputs": []
    },
    {
      "cell_type": "code",
      "metadata": {
        "id": "1lhFCYa_CODC"
      },
      "source": [
        "#from imblearn.over_sampling import SMOTE\n",
        "#smote= SMOTE()\n",
        "\n",
        "#X_smote, y_smote = smote.fit_resample(X,y)"
      ],
      "execution_count": null,
      "outputs": []
    },
    {
      "cell_type": "code",
      "metadata": {
        "id": "2qGi6I-ZCN_b"
      },
      "source": [
        ""
      ],
      "execution_count": null,
      "outputs": []
    },
    {
      "cell_type": "code",
      "metadata": {
        "id": "6jv-l4X9CN47"
      },
      "source": [
        ""
      ],
      "execution_count": null,
      "outputs": []
    },
    {
      "cell_type": "code",
      "metadata": {
        "id": "YJqqDzNhrpDp"
      },
      "source": [
        "def plot_learningCurve(history,epoch):\n",
        "    epoch_range = range(1, epoch+1)\n",
        "    plt.plot(epoch_range, history.history['accuracy'])\n",
        "    plt.plot(epoch_range,history.history['val_accuracy'])\n",
        "    plt.title(\"Model Accuracy\")\n",
        "    plt.ylabel('accuracy')\n",
        "    plt.xlabel(\"Epoch\")\n",
        "    plt.legend([\"Train\",'Val'], loc='upper left')\n",
        "    plt.show()\n",
        "\n",
        "    plt.plot(epoch_range, history.history['loss'])\n",
        "    plt.plot(epoch_range,history.history['val_loss'])\n",
        "    plt.title(\"Model Loss\")\n",
        "    plt.ylabel('Loss')\n",
        "    plt.xlabel(\"Epoch\")\n",
        "    plt.legend([\"Train\",'Val'], loc='upper left')\n",
        "    plt.show()"
      ],
      "execution_count": 39,
      "outputs": []
    },
    {
      "cell_type": "code",
      "metadata": {
        "id": "oY-d3BHy1JHG"
      },
      "source": [
        ""
      ],
      "execution_count": null,
      "outputs": []
    },
    {
      "cell_type": "code",
      "metadata": {
        "id": "f59FuoWe1JCg"
      },
      "source": [
        ""
      ],
      "execution_count": null,
      "outputs": []
    },
    {
      "cell_type": "code",
      "metadata": {
        "id": "n3Bwbmje1I7H"
      },
      "source": [
        ""
      ],
      "execution_count": null,
      "outputs": []
    },
    {
      "cell_type": "code",
      "metadata": {
        "id": "QW0eJpT71I3g"
      },
      "source": [
        ""
      ],
      "execution_count": null,
      "outputs": []
    },
    {
      "cell_type": "code",
      "metadata": {
        "id": "LJxsWTRz1Iy1"
      },
      "source": [
        ""
      ],
      "execution_count": null,
      "outputs": []
    },
    {
      "cell_type": "code",
      "metadata": {
        "id": "DP4LTVt_1ImO"
      },
      "source": [
        ""
      ],
      "execution_count": null,
      "outputs": []
    },
    {
      "cell_type": "code",
      "metadata": {
        "id": "7DuJs35AzjJV"
      },
      "source": [
        ""
      ],
      "execution_count": null,
      "outputs": []
    }
  ]
}