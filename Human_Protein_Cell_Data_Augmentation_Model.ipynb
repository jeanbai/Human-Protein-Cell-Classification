{
  "nbformat": 4,
  "nbformat_minor": 0,
  "metadata": {
    "accelerator": "TPU",
    "colab": {
      "name": "Human Protein Cell Data Augmentation Model.ipynb",
      "provenance": [],
      "collapsed_sections": [],
      "machine_shape": "hm",
      "authorship_tag": "ABX9TyNy6rs+Psqk5HpJFjRpbBl9",
      "include_colab_link": true
    },
    "kernelspec": {
      "display_name": "Python 3",
      "name": "python3"
    }
  },
  "cells": [
    {
      "cell_type": "markdown",
      "metadata": {
        "id": "view-in-github",
        "colab_type": "text"
      },
      "source": [
        "<a href=\"https://colab.research.google.com/github/jeanbai/Human-Protein-Cell-Classification/blob/main/Human_Protein_Cell_Data_Augmentation_Model.ipynb\" target=\"_parent\"><img src=\"https://colab.research.google.com/assets/colab-badge.svg\" alt=\"Open In Colab\"/></a>"
      ]
    },
    {
      "cell_type": "markdown",
      "metadata": {
        "id": "Ulw197Cx_hDL"
      },
      "source": [
        "Import Libraries"
      ]
    },
    {
      "cell_type": "code",
      "metadata": {
        "colab": {
          "base_uri": "https://localhost:8080/"
        },
        "id": "1n6z84Kc720r",
        "outputId": "d83f224a-aa48-4be5-e7a5-e3f1389c8541"
      },
      "source": [
        "import math, re, os\n",
        "import numpy as np\n",
        "import tensorflow as tf\n",
        "\n",
        "print(\"Tensorflow version \" + tf.__version__)"
      ],
      "execution_count": 1,
      "outputs": [
        {
          "output_type": "stream",
          "text": [
            "Tensorflow version 2.4.1\n"
          ],
          "name": "stdout"
        }
      ]
    },
    {
      "cell_type": "code",
      "metadata": {
        "id": "b4ZRlmN0nYt9"
      },
      "source": [
        "import math, re, os\n",
        "import numpy as np\n",
        "import tensorflow as tf\n"
      ],
      "execution_count": 2,
      "outputs": []
    },
    {
      "cell_type": "code",
      "metadata": {
        "colab": {
          "base_uri": "https://localhost:8080/"
        },
        "id": "RKWOJYKKLjtv",
        "outputId": "55786d32-dfae-46d6-c808-4c5245f4557e"
      },
      "source": [
        "from google.colab import drive\n",
        "drive.mount('/content/drive')"
      ],
      "execution_count": 3,
      "outputs": [
        {
          "output_type": "stream",
          "text": [
            "Drive already mounted at /content/drive; to attempt to forcibly remount, call drive.mount(\"/content/drive\", force_remount=True).\n"
          ],
          "name": "stdout"
        }
      ]
    },
    {
      "cell_type": "code",
      "metadata": {
        "id": "xCFZOvmKk40D"
      },
      "source": [
        "import tensorflow as tf\n",
        "import tensorflow.keras as keras\n",
        "from tensorflow.keras import Sequential\n",
        "from tensorflow.keras.layers import Flatten, Dense,Dropout,BatchNormalization,Conv2D,MaxPool2D\n",
        "from tensorflow.keras.optimizers import Adam\n",
        "from tensorflow.keras.preprocessing import image"
      ],
      "execution_count": 4,
      "outputs": []
    },
    {
      "cell_type": "code",
      "metadata": {
        "id": "J71IBkxiPyvB"
      },
      "source": [
        "\n",
        "import pandas as pd\n",
        "import matplotlib.pyplot as plt"
      ],
      "execution_count": 5,
      "outputs": []
    },
    {
      "cell_type": "code",
      "metadata": {
        "id": "z7zbUe63QCpF"
      },
      "source": [
        "from sklearn.model_selection import train_test_split"
      ],
      "execution_count": 6,
      "outputs": []
    },
    {
      "cell_type": "code",
      "metadata": {
        "id": "32JMzeWfQLqZ"
      },
      "source": [
        "from tqdm import tqdm"
      ],
      "execution_count": 7,
      "outputs": []
    },
    {
      "cell_type": "markdown",
      "metadata": {
        "id": "BMKXi7Nz_nJI"
      },
      "source": [
        "Import label dataset"
      ]
    },
    {
      "cell_type": "code",
      "metadata": {
        "id": "tVN4VPmORfpn"
      },
      "source": [
        "data = pd.read_csv(\"/content/drive/MyDrive/train.csv\")"
      ],
      "execution_count": 8,
      "outputs": []
    },
    {
      "cell_type": "code",
      "metadata": {
        "colab": {
          "base_uri": "https://localhost:8080/",
          "height": 204
        },
        "id": "n43zCHjAR49A",
        "outputId": "82fdd2cd-b10c-4731-c3d4-b73afaa2f351"
      },
      "source": [
        "data.head()"
      ],
      "execution_count": 9,
      "outputs": [
        {
          "output_type": "execute_result",
          "data": {
            "text/html": [
              "<div>\n",
              "<style scoped>\n",
              "    .dataframe tbody tr th:only-of-type {\n",
              "        vertical-align: middle;\n",
              "    }\n",
              "\n",
              "    .dataframe tbody tr th {\n",
              "        vertical-align: top;\n",
              "    }\n",
              "\n",
              "    .dataframe thead th {\n",
              "        text-align: right;\n",
              "    }\n",
              "</style>\n",
              "<table border=\"1\" class=\"dataframe\">\n",
              "  <thead>\n",
              "    <tr style=\"text-align: right;\">\n",
              "      <th></th>\n",
              "      <th>ID</th>\n",
              "      <th>Label</th>\n",
              "    </tr>\n",
              "  </thead>\n",
              "  <tbody>\n",
              "    <tr>\n",
              "      <th>0</th>\n",
              "      <td>5c27f04c-bb99-11e8-b2b9-ac1f6b6435d0</td>\n",
              "      <td>8|5|0</td>\n",
              "    </tr>\n",
              "    <tr>\n",
              "      <th>1</th>\n",
              "      <td>5fb643ee-bb99-11e8-b2b9-ac1f6b6435d0</td>\n",
              "      <td>14|0</td>\n",
              "    </tr>\n",
              "    <tr>\n",
              "      <th>2</th>\n",
              "      <td>60b57878-bb99-11e8-b2b9-ac1f6b6435d0</td>\n",
              "      <td>6|1</td>\n",
              "    </tr>\n",
              "    <tr>\n",
              "      <th>3</th>\n",
              "      <td>5c1a898e-bb99-11e8-b2b9-ac1f6b6435d0</td>\n",
              "      <td>16|10</td>\n",
              "    </tr>\n",
              "    <tr>\n",
              "      <th>4</th>\n",
              "      <td>5b931256-bb99-11e8-b2b9-ac1f6b6435d0</td>\n",
              "      <td>14|0</td>\n",
              "    </tr>\n",
              "  </tbody>\n",
              "</table>\n",
              "</div>"
            ],
            "text/plain": [
              "                                     ID  Label\n",
              "0  5c27f04c-bb99-11e8-b2b9-ac1f6b6435d0  8|5|0\n",
              "1  5fb643ee-bb99-11e8-b2b9-ac1f6b6435d0   14|0\n",
              "2  60b57878-bb99-11e8-b2b9-ac1f6b6435d0    6|1\n",
              "3  5c1a898e-bb99-11e8-b2b9-ac1f6b6435d0  16|10\n",
              "4  5b931256-bb99-11e8-b2b9-ac1f6b6435d0   14|0"
            ]
          },
          "metadata": {
            "tags": []
          },
          "execution_count": 9
        }
      ]
    },
    {
      "cell_type": "code",
      "metadata": {
        "id": "Dlxz8KIuP4EV"
      },
      "source": [
        "label_names = {\n",
        "    '0': \"Nucleoplasm\",\n",
        "    '1': \"Nuclear membrane\",\n",
        "    '2': \"Nucleoli\",\n",
        "    '3': \"Nucleoli fibrillar center\",\n",
        "    '4': \"Nuclear speckles\",\n",
        "    '5': \"Nuclear bodies\",\n",
        "    '6': \"Endoplasmic reticulum\",\n",
        "    '7': \"Golgi apparatus\",\n",
        "    '8': \"Intermediate filaments\",\n",
        "    '9': \"Actin filaments\",\n",
        "    '10': \"Microtubules\",\n",
        "    '11': \"Mitotic spindle\",\n",
        "    '12': \"Centrosome\",\n",
        "    '13': \"Plasma membrane\",\n",
        "    '14': \"Mitochondria\",\n",
        "    '15': \"Aggresome\",\n",
        "    '16': \"Cytosol\",\n",
        "    '17': \"Vesicles and punctate cytosolic patterns\",\n",
        "    '18': \"Negative\",\n",
        "}"
      ],
      "execution_count": 10,
      "outputs": []
    },
    {
      "cell_type": "code",
      "metadata": {
        "id": "G7nTT5ss97jm"
      },
      "source": [
        ""
      ],
      "execution_count": null,
      "outputs": []
    },
    {
      "cell_type": "markdown",
      "metadata": {
        "id": "iFXZAuCr_4He"
      },
      "source": [
        "Apply Hot_Encode for multi_label categories"
      ]
    },
    {
      "cell_type": "code",
      "metadata": {
        "id": "rmHHkNiTTSV0"
      },
      "source": [
        "train = data.copy()\n",
        "lab_idx = label_names.keys()\n",
        "\n",
        "train['Label'] = train['Label'].map(lambda x: x.split('|'))\n",
        "\n",
        "for label in lab_idx:\n",
        "    train[label_names[label]] = train['Label'].map(lambda result: 1 if label in result else 0)"
      ],
      "execution_count": 11,
      "outputs": []
    },
    {
      "cell_type": "code",
      "metadata": {
        "colab": {
          "base_uri": "https://localhost:8080/",
          "height": 547
        },
        "id": "lJXDzjedTSQR",
        "outputId": "7a97693a-15d3-4d43-a1cb-f052afb0257a"
      },
      "source": [
        "train.head()"
      ],
      "execution_count": 12,
      "outputs": [
        {
          "output_type": "execute_result",
          "data": {
            "text/html": [
              "<div>\n",
              "<style scoped>\n",
              "    .dataframe tbody tr th:only-of-type {\n",
              "        vertical-align: middle;\n",
              "    }\n",
              "\n",
              "    .dataframe tbody tr th {\n",
              "        vertical-align: top;\n",
              "    }\n",
              "\n",
              "    .dataframe thead th {\n",
              "        text-align: right;\n",
              "    }\n",
              "</style>\n",
              "<table border=\"1\" class=\"dataframe\">\n",
              "  <thead>\n",
              "    <tr style=\"text-align: right;\">\n",
              "      <th></th>\n",
              "      <th>ID</th>\n",
              "      <th>Label</th>\n",
              "      <th>Nucleoplasm</th>\n",
              "      <th>Nuclear membrane</th>\n",
              "      <th>Nucleoli</th>\n",
              "      <th>Nucleoli fibrillar center</th>\n",
              "      <th>Nuclear speckles</th>\n",
              "      <th>Nuclear bodies</th>\n",
              "      <th>Endoplasmic reticulum</th>\n",
              "      <th>Golgi apparatus</th>\n",
              "      <th>Intermediate filaments</th>\n",
              "      <th>Actin filaments</th>\n",
              "      <th>Microtubules</th>\n",
              "      <th>Mitotic spindle</th>\n",
              "      <th>Centrosome</th>\n",
              "      <th>Plasma membrane</th>\n",
              "      <th>Mitochondria</th>\n",
              "      <th>Aggresome</th>\n",
              "      <th>Cytosol</th>\n",
              "      <th>Vesicles and punctate cytosolic patterns</th>\n",
              "      <th>Negative</th>\n",
              "    </tr>\n",
              "  </thead>\n",
              "  <tbody>\n",
              "    <tr>\n",
              "      <th>0</th>\n",
              "      <td>5c27f04c-bb99-11e8-b2b9-ac1f6b6435d0</td>\n",
              "      <td>[8, 5, 0]</td>\n",
              "      <td>1</td>\n",
              "      <td>0</td>\n",
              "      <td>0</td>\n",
              "      <td>0</td>\n",
              "      <td>0</td>\n",
              "      <td>1</td>\n",
              "      <td>0</td>\n",
              "      <td>0</td>\n",
              "      <td>1</td>\n",
              "      <td>0</td>\n",
              "      <td>0</td>\n",
              "      <td>0</td>\n",
              "      <td>0</td>\n",
              "      <td>0</td>\n",
              "      <td>0</td>\n",
              "      <td>0</td>\n",
              "      <td>0</td>\n",
              "      <td>0</td>\n",
              "      <td>0</td>\n",
              "    </tr>\n",
              "    <tr>\n",
              "      <th>1</th>\n",
              "      <td>5fb643ee-bb99-11e8-b2b9-ac1f6b6435d0</td>\n",
              "      <td>[14, 0]</td>\n",
              "      <td>1</td>\n",
              "      <td>0</td>\n",
              "      <td>0</td>\n",
              "      <td>0</td>\n",
              "      <td>0</td>\n",
              "      <td>0</td>\n",
              "      <td>0</td>\n",
              "      <td>0</td>\n",
              "      <td>0</td>\n",
              "      <td>0</td>\n",
              "      <td>0</td>\n",
              "      <td>0</td>\n",
              "      <td>0</td>\n",
              "      <td>0</td>\n",
              "      <td>1</td>\n",
              "      <td>0</td>\n",
              "      <td>0</td>\n",
              "      <td>0</td>\n",
              "      <td>0</td>\n",
              "    </tr>\n",
              "    <tr>\n",
              "      <th>2</th>\n",
              "      <td>60b57878-bb99-11e8-b2b9-ac1f6b6435d0</td>\n",
              "      <td>[6, 1]</td>\n",
              "      <td>0</td>\n",
              "      <td>1</td>\n",
              "      <td>0</td>\n",
              "      <td>0</td>\n",
              "      <td>0</td>\n",
              "      <td>0</td>\n",
              "      <td>1</td>\n",
              "      <td>0</td>\n",
              "      <td>0</td>\n",
              "      <td>0</td>\n",
              "      <td>0</td>\n",
              "      <td>0</td>\n",
              "      <td>0</td>\n",
              "      <td>0</td>\n",
              "      <td>0</td>\n",
              "      <td>0</td>\n",
              "      <td>0</td>\n",
              "      <td>0</td>\n",
              "      <td>0</td>\n",
              "    </tr>\n",
              "    <tr>\n",
              "      <th>3</th>\n",
              "      <td>5c1a898e-bb99-11e8-b2b9-ac1f6b6435d0</td>\n",
              "      <td>[16, 10]</td>\n",
              "      <td>0</td>\n",
              "      <td>0</td>\n",
              "      <td>0</td>\n",
              "      <td>0</td>\n",
              "      <td>0</td>\n",
              "      <td>0</td>\n",
              "      <td>0</td>\n",
              "      <td>0</td>\n",
              "      <td>0</td>\n",
              "      <td>0</td>\n",
              "      <td>1</td>\n",
              "      <td>0</td>\n",
              "      <td>0</td>\n",
              "      <td>0</td>\n",
              "      <td>0</td>\n",
              "      <td>0</td>\n",
              "      <td>1</td>\n",
              "      <td>0</td>\n",
              "      <td>0</td>\n",
              "    </tr>\n",
              "    <tr>\n",
              "      <th>4</th>\n",
              "      <td>5b931256-bb99-11e8-b2b9-ac1f6b6435d0</td>\n",
              "      <td>[14, 0]</td>\n",
              "      <td>1</td>\n",
              "      <td>0</td>\n",
              "      <td>0</td>\n",
              "      <td>0</td>\n",
              "      <td>0</td>\n",
              "      <td>0</td>\n",
              "      <td>0</td>\n",
              "      <td>0</td>\n",
              "      <td>0</td>\n",
              "      <td>0</td>\n",
              "      <td>0</td>\n",
              "      <td>0</td>\n",
              "      <td>0</td>\n",
              "      <td>0</td>\n",
              "      <td>1</td>\n",
              "      <td>0</td>\n",
              "      <td>0</td>\n",
              "      <td>0</td>\n",
              "      <td>0</td>\n",
              "    </tr>\n",
              "  </tbody>\n",
              "</table>\n",
              "</div>"
            ],
            "text/plain": [
              "                                     ID  ... Negative\n",
              "0  5c27f04c-bb99-11e8-b2b9-ac1f6b6435d0  ...        0\n",
              "1  5fb643ee-bb99-11e8-b2b9-ac1f6b6435d0  ...        0\n",
              "2  60b57878-bb99-11e8-b2b9-ac1f6b6435d0  ...        0\n",
              "3  5c1a898e-bb99-11e8-b2b9-ac1f6b6435d0  ...        0\n",
              "4  5b931256-bb99-11e8-b2b9-ac1f6b6435d0  ...        0\n",
              "\n",
              "[5 rows x 21 columns]"
            ]
          },
          "metadata": {
            "tags": []
          },
          "execution_count": 12
        }
      ]
    },
    {
      "cell_type": "code",
      "metadata": {
        "colab": {
          "base_uri": "https://localhost:8080/"
        },
        "id": "uAw-pDbbXIvx",
        "outputId": "ded5f7e4-c682-406e-8b6b-4e2ddb83fa1f"
      },
      "source": [
        "train.shape"
      ],
      "execution_count": 13,
      "outputs": [
        {
          "output_type": "execute_result",
          "data": {
            "text/plain": [
              "(21806, 21)"
            ]
          },
          "metadata": {
            "tags": []
          },
          "execution_count": 13
        }
      ]
    },
    {
      "cell_type": "markdown",
      "metadata": {
        "id": "167uzHXlABaE"
      },
      "source": [
        "Import image file"
      ]
    },
    {
      "cell_type": "code",
      "metadata": {
        "colab": {
          "base_uri": "https://localhost:8080/"
        },
        "id": "BUr-1SnENkCj",
        "outputId": "73e1130f-e58e-48dc-a1ba-02bc26112ef2"
      },
      "source": [
        "img_width = 150\n",
        "img_height = 150\n",
        "\n",
        "X = []\n",
        "\n",
        "for i in tqdm(range(train.shape[0])):\n",
        "    path = '/content/drive/MyDrive/rgb/' + train['ID'][i] + '.png'\n",
        "    img = image.load_img(path, target_size=(img_width, img_height, 3))\n",
        "    img = image.img_to_array(img)\n",
        "    img = img/255.0\n",
        "    X.append(img)\n",
        "\n",
        "X = np.array(X)\n"
      ],
      "execution_count": 14,
      "outputs": [
        {
          "output_type": "stream",
          "text": [
            "100%|██████████| 21806/21806 [03:29<00:00, 103.89it/s]\n"
          ],
          "name": "stderr"
        }
      ]
    },
    {
      "cell_type": "code",
      "metadata": {
        "colab": {
          "base_uri": "https://localhost:8080/"
        },
        "id": "ekbgBMZ3d7Zt",
        "outputId": "40079519-4a96-4394-d797-e4b1db3cf75c"
      },
      "source": [
        "X.shape"
      ],
      "execution_count": 15,
      "outputs": [
        {
          "output_type": "execute_result",
          "data": {
            "text/plain": [
              "(21806, 150, 150, 3)"
            ]
          },
          "metadata": {
            "tags": []
          },
          "execution_count": 15
        }
      ]
    },
    {
      "cell_type": "code",
      "metadata": {
        "colab": {
          "base_uri": "https://localhost:8080/"
        },
        "id": "MeHrPPH4Um4p",
        "outputId": "7aec73ed-d3ec-4f2e-b7d3-5c5469418df9"
      },
      "source": [
        "y = train.drop(['ID',\"Label\"],axis = 1)\n",
        "y = y.to_numpy()\n",
        "y.shape"
      ],
      "execution_count": 16,
      "outputs": [
        {
          "output_type": "execute_result",
          "data": {
            "text/plain": [
              "(21806, 19)"
            ]
          },
          "metadata": {
            "tags": []
          },
          "execution_count": 16
        }
      ]
    },
    {
      "cell_type": "code",
      "metadata": {
        "id": "9YYpGxkuXeIX"
      },
      "source": [
        "X_train, X_test,y_train,y_test = train_test_split(X, y,random_state = 0, test_size = 0.30)"
      ],
      "execution_count": 17,
      "outputs": []
    },
    {
      "cell_type": "code",
      "metadata": {
        "colab": {
          "base_uri": "https://localhost:8080/"
        },
        "id": "jqH_uiZqbT2g",
        "outputId": "6731a618-081c-4f8c-89fa-602c1a645a43"
      },
      "source": [
        "X_train.shape"
      ],
      "execution_count": 18,
      "outputs": [
        {
          "output_type": "execute_result",
          "data": {
            "text/plain": [
              "(15264, 150, 150, 3)"
            ]
          },
          "metadata": {
            "tags": []
          },
          "execution_count": 18
        }
      ]
    },
    {
      "cell_type": "code",
      "metadata": {
        "colab": {
          "base_uri": "https://localhost:8080/"
        },
        "id": "HlSicLJtbcy3",
        "outputId": "48bebb68-a743-4563-b2a1-0f5a6e131294"
      },
      "source": [
        "X_test.shape"
      ],
      "execution_count": 19,
      "outputs": [
        {
          "output_type": "execute_result",
          "data": {
            "text/plain": [
              "(6542, 150, 150, 3)"
            ]
          },
          "metadata": {
            "tags": []
          },
          "execution_count": 19
        }
      ]
    },
    {
      "cell_type": "code",
      "metadata": {
        "id": "3wGVBTZgwe5N"
      },
      "source": [
        "from tensorflow.keras.preprocessing.image import ImageDataGenerator\n",
        "# create a data generator\n",
        "datagen = ImageDataGenerator(\n",
        "        #samplewise_center=True,  # set each sample mean to 0\n",
        "        rotation_range=10,  # randomly rotate images in the range (degrees, 0 to 180)\n",
        "        zoom_range = 0.1, # Randomly zoom image \n",
        "        width_shift_range=0.1,  # randomly shift images horizontally (fraction of total width)\n",
        "        height_shift_range=0.1,  # randomly shift images vertically (fraction of total height)\n",
        "        horizontal_flip=True,  # randomly flip images\n",
        "        vertical_flip=True) # we don't e"
      ],
      "execution_count": 20,
      "outputs": []
    },
    {
      "cell_type": "markdown",
      "metadata": {
        "id": "D0R8xUX5cdJe"
      },
      "source": [
        "Model Creation"
      ]
    },
    {
      "cell_type": "code",
      "metadata": {
        "id": "Hg6HHR0-cb-U"
      },
      "source": [
        "from tensorflow.keras.models import Sequential\n",
        "from tensorflow.keras.layers import (\n",
        "    Dense,\n",
        "    Conv2D,\n",
        "    MaxPool2D,\n",
        "    Flatten,\n",
        "    Dropout,\n",
        "    BatchNormalization,\n",
        ")\n",
        "\n",
        "model = Sequential()\n",
        "model.add(Conv2D(75, (3, 3), strides=1, padding=\"same\", activation=\"relu\", \n",
        "                 input_shape=(150, 150, 3)))\n",
        "model.add(BatchNormalization())\n",
        "model.add(MaxPool2D((2, 2), strides=2, padding=\"same\"))\n",
        "model.add(Conv2D(50, (3, 3), strides=1, padding=\"same\", activation=\"relu\"))\n",
        "model.add(Dropout(0.2))\n",
        "model.add(BatchNormalization())\n",
        "model.add(MaxPool2D((2, 2), strides=2, padding=\"same\"))\n",
        "model.add(Conv2D(25, (3, 3), strides=1, padding=\"same\", activation=\"relu\"))\n",
        "model.add(BatchNormalization())\n",
        "model.add(MaxPool2D((2, 2), strides=2, padding=\"same\"))\n",
        "model.add(Flatten())\n",
        "model.add(Dense(units=512, activation=\"relu\"))\n",
        "model.add(Dropout(0.3))\n",
        "model.add(Dense(units=19, activation=\"sigmoid\"))"
      ],
      "execution_count": 21,
      "outputs": []
    },
    {
      "cell_type": "code",
      "metadata": {
        "colab": {
          "base_uri": "https://localhost:8080/"
        },
        "id": "lhdnycwadL7F",
        "outputId": "10df668a-d63f-4779-ca8f-e924911e48d8"
      },
      "source": [
        "model.summary()"
      ],
      "execution_count": 22,
      "outputs": [
        {
          "output_type": "stream",
          "text": [
            "Model: \"sequential\"\n",
            "_________________________________________________________________\n",
            "Layer (type)                 Output Shape              Param #   \n",
            "=================================================================\n",
            "conv2d (Conv2D)              (None, 150, 150, 75)      2100      \n",
            "_________________________________________________________________\n",
            "batch_normalization (BatchNo (None, 150, 150, 75)      300       \n",
            "_________________________________________________________________\n",
            "max_pooling2d (MaxPooling2D) (None, 75, 75, 75)        0         \n",
            "_________________________________________________________________\n",
            "conv2d_1 (Conv2D)            (None, 75, 75, 50)        33800     \n",
            "_________________________________________________________________\n",
            "dropout (Dropout)            (None, 75, 75, 50)        0         \n",
            "_________________________________________________________________\n",
            "batch_normalization_1 (Batch (None, 75, 75, 50)        200       \n",
            "_________________________________________________________________\n",
            "max_pooling2d_1 (MaxPooling2 (None, 38, 38, 50)        0         \n",
            "_________________________________________________________________\n",
            "conv2d_2 (Conv2D)            (None, 38, 38, 25)        11275     \n",
            "_________________________________________________________________\n",
            "batch_normalization_2 (Batch (None, 38, 38, 25)        100       \n",
            "_________________________________________________________________\n",
            "max_pooling2d_2 (MaxPooling2 (None, 19, 19, 25)        0         \n",
            "_________________________________________________________________\n",
            "flatten (Flatten)            (None, 9025)              0         \n",
            "_________________________________________________________________\n",
            "dense (Dense)                (None, 512)               4621312   \n",
            "_________________________________________________________________\n",
            "dropout_1 (Dropout)          (None, 512)               0         \n",
            "_________________________________________________________________\n",
            "dense_1 (Dense)              (None, 19)                9747      \n",
            "=================================================================\n",
            "Total params: 4,678,834\n",
            "Trainable params: 4,678,534\n",
            "Non-trainable params: 300\n",
            "_________________________________________________________________\n"
          ],
          "name": "stdout"
        }
      ]
    },
    {
      "cell_type": "markdown",
      "metadata": {
        "id": "TnxAXfWAW4WM"
      },
      "source": [
        "Use ImageDataGenerator to solve imbalanced class problem."
      ]
    },
    {
      "cell_type": "code",
      "metadata": {
        "colab": {
          "base_uri": "https://localhost:8080/",
          "height": 258
        },
        "id": "fYDbB90TdYGX",
        "outputId": "6b6d2686-23df-4dc2-aaee-8c83196ab317"
      },
      "source": [
        "import matplotlib.pyplot as plt\n",
        "import numpy as np\n",
        "batch_size = 32\n",
        "img_iter = datagen.flow(X_train, y_train, batch_size=batch_size)\n",
        "\n",
        "x, y = img_iter.next()\n",
        "fig, ax = plt.subplots(nrows=4, ncols=8)\n",
        "for i in range(batch_size):\n",
        "    image = x[i]\n",
        "    ax.flatten()[i].imshow(np.squeeze(image))\n",
        "plt.show()"
      ],
      "execution_count": 23,
      "outputs": [
        {
          "output_type": "display_data",
          "data": {
            "image/png": "[encoded data removed]",
            "text/plain": [
              "<Figure size 432x288 with 32 Axes>"
            ]
          },
          "metadata": {
            "tags": [],
            "needs_background": "light"
          }
        }
      ]
    },
    {
      "cell_type": "markdown",
      "metadata": {
        "id": "WI-UG3gCkdJl"
      },
      "source": [
        ""
      ]
    },
    {
      "cell_type": "code",
      "metadata": {
        "id": "plkgHoI4db_D"
      },
      "source": [
        "datagen.fit(X_train)"
      ],
      "execution_count": 24,
      "outputs": []
    },
    {
      "cell_type": "code",
      "metadata": {
        "id": "exQOjipQdb8K"
      },
      "source": [
        "model.compile(optimizer=\"adam\", loss = 'binary_crossentropy', metrics=['accuracy'])"
      ],
      "execution_count": 25,
      "outputs": []
    },
    {
      "cell_type": "code",
      "metadata": {
        "colab": {
          "background_save": true,
          "base_uri": "https://localhost:8080/"
        },
        "id": "QNJCFE2Fdb5A",
        "outputId": "0b94983a-932e-45f9-f229-8140f22ba3f4"
      },
      "source": [
        "\n",
        "\n",
        "#model.fit(img_iter,\n",
        "          epochs=20,\n",
        "          steps_per_epoch=len(X_train)/batch_size, # Run same number of steps we would if we were not using a generator.\n",
        "          validation_data=(X_test, y_test))"
      ],
      "execution_count": null,
      "outputs": [
        {
          "output_type": "stream",
          "text": [
            "Epoch 1/20\n",
            "477/477 [==============================] - 276s 576ms/step - loss: 0.3665 - accuracy: 0.2835 - val_loss: 0.2701 - val_accuracy: 0.3323\n",
            "Epoch 2/20\n",
            "477/477 [==============================] - 279s 584ms/step - loss: 0.2401 - accuracy: 0.3827 - val_loss: 0.2361 - val_accuracy: 0.4168\n",
            "Epoch 3/20\n",
            "477/477 [==============================] - 276s 579ms/step - loss: 0.2317 - accuracy: 0.3897 - val_loss: 0.2237 - val_accuracy: 0.4395\n",
            "Epoch 4/20\n",
            "477/477 [==============================] - 278s 582ms/step - loss: 0.2233 - accuracy: 0.4222 - val_loss: 0.2363 - val_accuracy: 0.4066\n",
            "Epoch 5/20\n",
            "477/477 [==============================] - 277s 580ms/step - loss: 0.2177 - accuracy: 0.4392 - val_loss: 0.3983 - val_accuracy: 0.3092\n",
            "Epoch 6/20\n",
            "477/477 [==============================] - 275s 576ms/step - loss: 0.2123 - accuracy: 0.4440 - val_loss: 0.2094 - val_accuracy: 0.4781\n",
            "Epoch 7/20\n",
            "477/477 [==============================] - 276s 579ms/step - loss: 0.2102 - accuracy: 0.4461 - val_loss: 0.2107 - val_accuracy: 0.4820\n",
            "Epoch 8/20\n",
            "477/477 [==============================] - 279s 585ms/step - loss: 0.2065 - accuracy: 0.4531 - val_loss: 0.2190 - val_accuracy: 0.4791\n",
            "Epoch 9/20\n",
            "477/477 [==============================] - 280s 587ms/step - loss: 0.2022 - accuracy: 0.4561 - val_loss: 0.2198 - val_accuracy: 0.4804\n",
            "Epoch 10/20\n",
            "477/477 [==============================] - 286s 599ms/step - loss: 0.1977 - accuracy: 0.4744 - val_loss: 0.1923 - val_accuracy: 0.4373\n",
            "Epoch 11/20\n",
            "477/477 [==============================] - 279s 585ms/step - loss: 0.1936 - accuracy: 0.4792 - val_loss: 0.2077 - val_accuracy: 0.4859\n",
            "Epoch 12/20\n",
            "477/477 [==============================] - 286s 599ms/step - loss: 0.1927 - accuracy: 0.4766 - val_loss: 0.2029 - val_accuracy: 0.4974\n",
            "Epoch 13/20\n",
            "477/477 [==============================] - 280s 586ms/step - loss: 0.1893 - accuracy: 0.4940 - val_loss: 0.2253 - val_accuracy: 0.4518\n",
            "Epoch 14/20\n",
            "477/477 [==============================] - 277s 581ms/step - loss: 0.1851 - accuracy: 0.4926 - val_loss: 0.2700 - val_accuracy: 0.4321\n",
            "Epoch 15/20\n",
            "477/477 [==============================] - 276s 579ms/step - loss: 0.1867 - accuracy: 0.5012 - val_loss: 0.1874 - val_accuracy: 0.5183\n",
            "Epoch 16/20\n",
            "477/477 [==============================] - 276s 579ms/step - loss: 0.1827 - accuracy: 0.5081 - val_loss: 0.1884 - val_accuracy: 0.5298\n",
            "Epoch 17/20\n",
            "477/477 [==============================] - 277s 580ms/step - loss: 0.1809 - accuracy: 0.5052 - val_loss: 0.1980 - val_accuracy: 0.5186\n",
            "Epoch 18/20\n",
            "477/477 [==============================] - 277s 580ms/step - loss: 0.1795 - accuracy: 0.5194 - val_loss: 0.1872 - val_accuracy: 0.4989\n",
            "Epoch 19/20\n",
            "477/477 [==============================] - 277s 580ms/step - loss: 0.1758 - accuracy: 0.5015 - val_loss: 0.1850 - val_accuracy: 0.5359\n",
            "Epoch 20/20\n",
            "477/477 [==============================] - 277s 580ms/step - loss: 0.1737 - accuracy: 0.5265 - val_loss: 0.1882 - val_accuracy: 0.5315\n"
          ],
          "name": "stdout"
        },
        {
          "output_type": "execute_result",
          "data": {
            "text/plain": [
              "<tensorflow.python.keras.callbacks.History at 0x7f84088d9a10>"
            ]
          },
          "metadata": {
            "tags": []
          },
          "execution_count": 0
        }
      ]
    },
    {
      "cell_type": "code",
      "metadata": {
        "id": "jOwl8GCFIUch",
        "colab": {
          "base_uri": "https://localhost:8080/"
        },
        "outputId": "68db8f82-1254-48e6-efe8-b1d6daf3667e"
      },
      "source": [
        "history = model.fit(X_train,y_train,epochs=20,validation_data=(X_test,y_test))"
      ],
      "execution_count": 26,
      "outputs": [
        {
          "output_type": "stream",
          "text": [
            "Epoch 1/20\n",
            "477/477 [==============================] - 265s 554ms/step - loss: 0.3706 - accuracy: 0.2727 - val_loss: 0.3246 - val_accuracy: 0.2819\n",
            "Epoch 2/20\n",
            "477/477 [==============================] - 272s 570ms/step - loss: 0.2320 - accuracy: 0.3849 - val_loss: 0.2240 - val_accuracy: 0.3980\n",
            "Epoch 3/20\n",
            "477/477 [==============================] - 270s 566ms/step - loss: 0.2181 - accuracy: 0.4329 - val_loss: 0.2209 - val_accuracy: 0.4141\n",
            "Epoch 4/20\n",
            "477/477 [==============================] - 270s 566ms/step - loss: 0.2010 - accuracy: 0.4714 - val_loss: 0.2224 - val_accuracy: 0.4401\n",
            "Epoch 5/20\n",
            "477/477 [==============================] - 269s 565ms/step - loss: 0.1833 - accuracy: 0.5030 - val_loss: 0.2251 - val_accuracy: 0.4239\n",
            "Epoch 6/20\n",
            "477/477 [==============================] - 269s 564ms/step - loss: 0.1584 - accuracy: 0.5605 - val_loss: 0.2302 - val_accuracy: 0.4132\n",
            "Epoch 7/20\n",
            "477/477 [==============================] - 265s 556ms/step - loss: 0.1374 - accuracy: 0.6109 - val_loss: 0.2414 - val_accuracy: 0.4335\n",
            "Epoch 8/20\n",
            "477/477 [==============================] - 264s 553ms/step - loss: 0.1197 - accuracy: 0.6443 - val_loss: 0.2384 - val_accuracy: 0.4378\n",
            "Epoch 9/20\n",
            "477/477 [==============================] - 265s 555ms/step - loss: 0.1041 - accuracy: 0.6570 - val_loss: 0.2655 - val_accuracy: 0.4083\n",
            "Epoch 10/20\n",
            "477/477 [==============================] - 265s 555ms/step - loss: 0.0907 - accuracy: 0.6920 - val_loss: 0.2924 - val_accuracy: 0.4242\n",
            "Epoch 11/20\n",
            "477/477 [==============================] - 266s 557ms/step - loss: 0.0831 - accuracy: 0.6995 - val_loss: 0.2832 - val_accuracy: 0.4045\n",
            "Epoch 12/20\n",
            "477/477 [==============================] - 262s 548ms/step - loss: 0.0763 - accuracy: 0.7055 - val_loss: 0.3054 - val_accuracy: 0.4503\n",
            "Epoch 13/20\n",
            "477/477 [==============================] - 261s 547ms/step - loss: 0.0725 - accuracy: 0.7104 - val_loss: 0.2709 - val_accuracy: 0.4233\n",
            "Epoch 14/20\n",
            "477/477 [==============================] - 263s 551ms/step - loss: 0.0655 - accuracy: 0.7176 - val_loss: 0.2987 - val_accuracy: 0.4470\n",
            "Epoch 15/20\n",
            "477/477 [==============================] - 264s 554ms/step - loss: 0.0618 - accuracy: 0.7288 - val_loss: 0.3062 - val_accuracy: 0.4757\n",
            "Epoch 16/20\n",
            "477/477 [==============================] - 266s 558ms/step - loss: 0.0568 - accuracy: 0.7413 - val_loss: 0.3183 - val_accuracy: 0.4112\n",
            "Epoch 17/20\n",
            "477/477 [==============================] - 264s 554ms/step - loss: 0.0550 - accuracy: 0.7296 - val_loss: 0.3154 - val_accuracy: 0.4684\n",
            "Epoch 18/20\n",
            "477/477 [==============================] - 266s 557ms/step - loss: 0.0526 - accuracy: 0.7172 - val_loss: 0.3126 - val_accuracy: 0.4288\n",
            "Epoch 19/20\n",
            "477/477 [==============================] - 268s 563ms/step - loss: 0.0504 - accuracy: 0.7290 - val_loss: 0.3374 - val_accuracy: 0.4493\n",
            "Epoch 20/20\n",
            "477/477 [==============================] - 262s 550ms/step - loss: 0.0473 - accuracy: 0.7430 - val_loss: 0.3225 - val_accuracy: 0.4136\n"
          ],
          "name": "stdout"
        }
      ]
    },
    {
      "cell_type": "code",
      "metadata": {
        "id": "LJxsWTRz1Iy1"
      },
      "source": [
        "def plot_learningCurve(history,epoch):\n",
        "    epoch_range = range(1, epoch+1)\n",
        "    plt.plot(epoch_range, history.history['accuracy'])\n",
        "    plt.plot(epoch_range,history.history['val_accuracy'])\n",
        "    plt.title(\"Model Accuracy\")\n",
        "    plt.ylabel('accuracy')\n",
        "    plt.xlabel(\"Epoch\")\n",
        "    plt.legend([\"Train\",'Val'], loc='upper left')\n",
        "    plt.show()\n",
        "\n",
        "    plt.plot(epoch_range, history.history['loss'])\n",
        "    plt.plot(epoch_range,history.history['val_loss'])\n",
        "    plt.title(\"Model Loss\")\n",
        "    plt.ylabel('Loss')\n",
        "    plt.xlabel(\"Epoch\")\n",
        "    plt.legend([\"Train\",'Val'], loc='upper left')\n",
        "    plt.show()"
      ],
      "execution_count": 28,
      "outputs": []
    },
    {
      "cell_type": "code",
      "metadata": {
        "id": "7DuJs35AzjJV"
      },
      "source": [
        ""
      ],
      "execution_count": null,
      "outputs": []
    }
  ]
}